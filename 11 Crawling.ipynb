{
 "cells": [
  {
   "cell_type": "markdown",
   "metadata": {},
   "source": [
    "<center> 크롤링 과제 제출_18기_수학과_신혜연 </center>"
   ]
  },
  {
   "cell_type": "code",
   "execution_count": 4,
   "metadata": {
    "id": "1nw791l8V8GX"
   },
   "outputs": [
    {
     "name": "stdout",
     "output_type": "stream",
     "text": [
      "Requirement already satisfied: requests in /Users/shinheayun/.pyenv/versions/anaconda3-5.3.1/lib/python3.7/site-packages (2.24.0)\n",
      "Requirement already satisfied: certifi>=2017.4.17 in /Users/shinheayun/.pyenv/versions/anaconda3-5.3.1/lib/python3.7/site-packages (from requests) (2020.12.5)\n",
      "Requirement already satisfied: urllib3!=1.25.0,!=1.25.1,<1.26,>=1.21.1 in /Users/shinheayun/.pyenv/versions/anaconda3-5.3.1/lib/python3.7/site-packages (from requests) (1.25.10)\n",
      "Requirement already satisfied: idna<3,>=2.5 in /Users/shinheayun/.pyenv/versions/anaconda3-5.3.1/lib/python3.7/site-packages (from requests) (2.10)\n",
      "Requirement already satisfied: chardet<4,>=3.0.2 in /Users/shinheayun/.pyenv/versions/anaconda3-5.3.1/lib/python3.7/site-packages (from requests) (3.0.4)\n",
      "Requirement already satisfied: bs4 in /Users/shinheayun/.pyenv/versions/anaconda3-5.3.1/lib/python3.7/site-packages (0.0.1)\n",
      "Requirement already satisfied: beautifulsoup4 in /Users/shinheayun/.pyenv/versions/anaconda3-5.3.1/lib/python3.7/site-packages (from bs4) (4.9.1)\n",
      "Requirement already satisfied: soupsieve>1.2 in /Users/shinheayun/.pyenv/versions/anaconda3-5.3.1/lib/python3.7/site-packages (from beautifulsoup4->bs4) (2.0.1)\n",
      "Requirement already satisfied: selenium in /Users/shinheayun/.pyenv/versions/anaconda3-5.3.1/lib/python3.7/site-packages (3.141.0)\n",
      "Requirement already satisfied: urllib3 in /Users/shinheayun/.pyenv/versions/anaconda3-5.3.1/lib/python3.7/site-packages (from selenium) (1.25.10)\n"
     ]
    }
   ],
   "source": [
    "#필요한 라이브러리 다운로드\n",
    "\n",
    "!pip3 install requests\n",
    "!pip3 install bs4 #beautifulsoup4\n",
    "!pip3 install selenium"
   ]
  },
  {
   "cell_type": "code",
   "execution_count": 32,
   "metadata": {
    "id": "7TJQE4DwV8Gf"
   },
   "outputs": [],
   "source": [
    "import requests\n",
    "from selenium import webdriver\n",
    "from selenium.webdriver.common.keys import Keys\n",
    "import time\n",
    "from bs4 import BeautifulSoup"
   ]
  },
  {
   "cell_type": "markdown",
   "metadata": {
    "id": "BYFWFXHlV8G5"
   },
   "source": [
    "## Selenium 모듈\n",
    "=실제 사용자가 사용하는 것 처럼 작동하므로 BeautifulSoup으로 안되는 경우에도 대부분 적용 가능하다\n"
   ]
  },
  {
   "cell_type": "code",
   "execution_count": 33,
   "metadata": {
    "id": "v5l1zb6nV8G5",
    "outputId": "b58c09c4-b5f0-4473-c937-84d98059550b"
   },
   "outputs": [],
   "source": [
    "from selenium import webdriver\n",
    "from selenium.webdriver.common.keys import Keys\n",
    "import time"
   ]
  },
  {
   "cell_type": "code",
   "execution_count": 34,
   "metadata": {
    "id": "0W8PB-PLV8G5"
   },
   "outputs": [
    {
     "name": "stdout",
     "output_type": "stream",
     "text": [
      "신임 제주도 보훈청장에 이동희 서기관\n",
      "제품 이미지·매출↑…제주도, 스토리텔링 마케팅 지원\n",
      "제주도 자치경찰단, ‘야외 천막 술파티’ 등 방역수칙 위반 17건 적발\n",
      "제주도 '첨단 방역기술 도입' 시동…카이스트와 협약\n",
      "제주도, 쓰레기 무단투기 등 불법행위 집중 단속 추진\n",
      "민주당 제주도당 \"제주4.3특별법 법안소위 통과 환영\"\n",
      "제주도의회 “몸집 키운 카지노, 제주도에 더 기여하라”\n",
      "JDC 인터넷면세점 확대 추진에 제주도-관광공사 '발끈'\n",
      "제주도체육회, 지방체육회장 간담회 개최\n",
      "제주도 식당·카페 등 6종 시설 운영시간 오후 10시까지 허용\n",
      "ㅡㅡㅡㅡㅡㅡㅡㅡㅡㅡㅡㅡㅡㅡㅡㅡㅡㅡ\n",
      "['신임 제주도 보훈청장에 이동희 서기관', '제품 이미지·매출↑…제주도, 스토리텔링 마케팅 지원', '제주도 자치경찰단, ‘야외 천막 술파티’ 등 방역수칙 위반 17건 적발', \"제주도 '첨단 방역기술 도입' 시동…카이스트와 협약\", '제주도, 쓰레기 무단투기 등 불법행위 집중 단속 추진', '민주당 제주도당 \"제주4.3특별법 법안소위 통과 환영\"', '제주도의회 “몸집 키운 카지노, 제주도에 더 기여하라”', \"JDC 인터넷면세점 확대 추진에 제주도-관광공사 '발끈'\", '제주도체육회, 지방체육회장 간담회 개최', '제주도 식당·카페 등 6종 시설 운영시간 오후 10시까지 허용']\n"
     ]
    }
   ],
   "source": [
    "#path 변수에 자신의 chromedriver가 있는 파일 위치를 할당\n",
    "#mac : ~/chromedriver (.exe 빼기) \n",
    "path = '/Users/shinheayun/Project/21-1 yonsei/YBIGTA/chromedriver'\n",
    "url = 'https://www.naver.com/'\n",
    "query = '제주도'\n",
    "\n",
    "#options 정의\n",
    "options = webdriver.ChromeOptions()\n",
    "#브라우저 창이 안뜨고 실행\n",
    "options.add_argument('headless')\n",
    "#브라우저 사이즈 설정\n",
    "options.add_argument('window-size=1920x1080')\n",
    "\n",
    "driver = webdriver.Chrome(path, options=options)\n",
    "\n",
    "driver.get(url)\n",
    "driver.find_element_by_xpath('//*[@id=\"query\"]').send_keys(query)\n",
    "driver.find_element_by_xpath('//*[@id=\"search_btn\"]').click()\n",
    "driver.find_element_by_xpath('//*[@id=\"lnb\"]/div[1]/div/ul/li[4]/a').click()\n",
    "\n",
    "# title\n",
    "all_title = []\n",
    "titles = driver.find_elements_by_class_name('news_tit')\n",
    "\n",
    "for t in titles:\n",
    "    all_title.append(t.text)\n",
    "    print(t.text)  \n",
    "    \n",
    "print('ㅡㅡㅡㅡㅡㅡㅡㅡㅡㅡㅡㅡㅡㅡㅡㅡㅡㅡ')\n",
    "\n",
    "print(all_title)"
   ]
  },
  {
   "cell_type": "code",
   "execution_count": 35,
   "metadata": {
    "id": "knePBUvjV8G7"
   },
   "outputs": [],
   "source": [
    "driver.quit()"
   ]
  }
 ],
 "metadata": {
  "colab": {
   "name": "크롤링.ipynb",
   "provenance": []
  },
  "kernelspec": {
   "display_name": "Python 3",
   "language": "python",
   "name": "python3"
  },
  "language_info": {
   "codemirror_mode": {
    "name": "ipython",
    "version": 3
   },
   "file_extension": ".py",
   "mimetype": "text/x-python",
   "name": "python",
   "nbconvert_exporter": "python",
   "pygments_lexer": "ipython3",
   "version": "3.7.2"
  }
 },
 "nbformat": 4,
 "nbformat_minor": 1
}
