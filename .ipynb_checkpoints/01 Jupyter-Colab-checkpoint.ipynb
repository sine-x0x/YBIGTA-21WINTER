{
 "cells": [
  {
   "cell_type": "markdown",
   "metadata": {},
   "source": [
    "<center> Jupyter Notebook 사용법 과제 제출_18기_수학과_신혜연 </center>"
   ]
  },
  {
   "cell_type": "markdown",
   "metadata": {},
   "source": [
    "# 과제 1\n",
    "1. 특정 자연수가 소수인지 아닌지 판별해서 True 또는 False를 반환하는 'isPrime'메소드를 만들어주세요.\n",
    "2. if문, for문을 사용해주세요.\n",
    "\n",
    "3. '%' 연산자는 나머지를 계산해줍니다.\n",
    "\n",
    "ex) 3 % 2 = 1, 12 % 5 = 2\n",
    "\n",
    "4. 'isPrime' 메소드를 완성한 후에 '결과확인 셀'을 실행 했을 때 True가 나오면 성공입니다"
   ]
  },
  {
   "cell_type": "code",
   "execution_count": 6,
   "metadata": {},
   "outputs": [],
   "source": [
    "# pass를 지우고 필요한 코드를 작성해주세요\n",
    "def isPrime(num):\n",
    "    i = 2\n",
    "    while i * i <= num:\n",
    "        if num % i == 0:\n",
    "            return False\n",
    "        i += 1\n",
    "    return True"
   ]
  },
  {
   "cell_type": "code",
   "execution_count": 7,
   "metadata": {},
   "outputs": [
    {
     "data": {
      "text/plain": [
       "True"
      ]
     },
     "execution_count": 7,
     "metadata": {},
     "output_type": "execute_result"
    }
   ],
   "source": [
    "# '결과확인 셀'입니다!! 클래스를 완성하고 실행해주세요!!\n",
    "isPrime(8191)"
   ]
  },
  {
   "cell_type": "markdown",
   "metadata": {},
   "source": [
    "## 과제 2\n",
    "\n",
    "1. 'Point' 라는 이름의 클래스를 만들어 주세요.\n",
    "\n",
    "\n",
    "2. 'Point' 클래스는 0이 아닌 정수 x와 y를 인스턴스 변수를 생성자에 입력 받습니다.\n",
    "\n",
    "\n",
    "3. 'Point' 클래스는 x와 y 값을 참조해 자신이 어느 사분면에 위치하는지 print 해주는 'position'메소드가 있습니다.\n",
    "\n",
    "\n",
    "    (x > 0, y > 0)이면 1사분면, (x > 0, y < 0)이면 4사분면 입니다.\n",
    "    \n",
    "4. 'Point' 클래스를 완성하고 '결과확인 셀'을 실행 했을 때 '2사분면'이 print 되면 성공입니다!!"
   ]
  },
  {
   "cell_type": "code",
   "execution_count": 15,
   "metadata": {},
   "outputs": [],
   "source": [
    "class Point:\n",
    "    def __init__(self, x, y):\n",
    "        self.x = x\n",
    "        self.y = y\n",
    "        \n",
    "    def position(self):\n",
    "        if self.x>0:\n",
    "            if self.y>0:\n",
    "                return '1사분면'\n",
    "            else:\n",
    "                return '4사분면'\n",
    "        else:\n",
    "            if self.y>0:\n",
    "                return '2사분면'\n",
    "            else:\n",
    "                return '3사분면'"
   ]
  },
  {
   "cell_type": "code",
   "execution_count": 16,
   "metadata": {},
   "outputs": [
    {
     "data": {
      "text/plain": [
       "'2사분면'"
      ]
     },
     "execution_count": 16,
     "metadata": {},
     "output_type": "execute_result"
    }
   ],
   "source": [
    "# '결과확인 셀'입니다!! 클래스를 완성하고 실행해주세요!!\n",
    "point = Point(-2, 4)\n",
    "point.position()"
   ]
  }
 ],
 "metadata": {
  "kernelspec": {
   "display_name": "Python 3",
   "language": "python",
   "name": "python3"
  },
  "language_info": {
   "codemirror_mode": {
    "name": "ipython",
    "version": 3
   },
   "file_extension": ".py",
   "mimetype": "text/x-python",
   "name": "python",
   "nbconvert_exporter": "python",
   "pygments_lexer": "ipython3",
   "version": "3.7.2"
  }
 },
 "nbformat": 4,
 "nbformat_minor": 4
}
